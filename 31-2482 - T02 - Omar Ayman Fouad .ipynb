{
 "cells": [
  {
   "cell_type": "code",
   "execution_count": null,
   "metadata": {
    "collapsed": true
   },
   "outputs": [],
   "source": [
    "from sklearn.feature_extraction.text import CountVectorizer, TfidfVectorizer\n",
    "from scipy.spatial.distance import cosine, cdist\n",
    "import numpy as np"
   ]
  },
  {
   "cell_type": "code",
   "execution_count": null,
   "metadata": {
    "scrolled": true
   },
   "outputs": [],
   "source": [
    "import os\n",
    "\n",
    "vv = TfidfVectorizer()\n",
    "\n",
    "docs = [] # a list of the text content of every document\n",
    "names = [] # maintains a list of file names\n",
    "for root, dirs, files in os.walk('cran/docs'):\n",
    "    for file in files[:1400]:\n",
    "        with open(os.path.join(root,file), 'r') as f:\n",
    "            docs.append(f.read())\n",
    "            names.append(file)\n",
    "            \n",
    "vv.fit(docs)\n",
    "\n",
    "transformed = vv.transform(docs)\n",
    "print(transformed.shape) \n",
    "print(transformed.toarray())"
   ]
  },
  {
   "cell_type": "code",
   "execution_count": null,
   "metadata": {},
   "outputs": [],
   "source": [
    "\n",
    "queries = [] # a list of the text content of every query\n",
    "qnames = [] # maintains a list of file names\n",
    "for root, dirs, files in os.walk('cran/queries'):\n",
    "    for file in files[:225]:\n",
    "        with open(os.path.join(root,file), 'r') as f:\n",
    "            queries.append(f.read())\n",
    "            qnames.append(file)\n",
    "\n",
    "transformedQueries = vv.transform(queries)\n",
    "print(transformedQueries.shape) \n",
    "print(transformedQueries.toarray()) "
   ]
  },
  {
   "cell_type": "code",
   "execution_count": null,
   "metadata": {
    "collapsed": true
   },
   "outputs": [],
   "source": [
    "import numpy as np\n",
    "sorted = []\n",
    "sims = 1-cdist(transformedQueries.toarray(), transformed.toarray(), metric='cosine')\n",
    "for x in sims:\n",
    "    sorted.append(np.argsort(x))\n",
    "type (sims)\n",
    "max_pos = np.argmax(sorted)\n"
   ]
  },
  {
   "cell_type": "code",
   "execution_count": null,
   "metadata": {},
   "outputs": [],
   "source": [
    "i = 1\n",
    "for d in sorted:\n",
    "    print('Query',i,'has\\n')\n",
    "    print (d,'as relevant documents indices')\n",
    "    i = i + 1\n",
    "#     for i in d:\n",
    "#         print('\\nFile:\\n',i+1)\n",
    "#         print(open('cran/docs/'+names[i], 'r').read())"
   ]
  },
  {
   "cell_type": "code",
   "execution_count": null,
   "metadata": {},
   "outputs": [],
   "source": [
    "for d in sorted:\n",
    "    for s in d:\n",
    "        print('\\nFile:',names[s],'\\n') #printing docs sorted by the relevance\n",
    "        print(open('cran/docs/'+names[s], 'r').read())"
   ]
  },
  {
   "cell_type": "code",
   "execution_count": null,
   "metadata": {
    "collapsed": true
   },
   "outputs": [],
   "source": [
    "actualResults = {}\n",
    "with open('cran/cranqrel') as f:\n",
    "    for l in f:\n",
    "        words = l.split()\n",
    "        query = int(words[0])\n",
    "        if query not in actualResults:\n",
    "            actualResults[query] = []\n",
    "        \n",
    "        actualResults[query].append(int(words[1]))"
   ]
  },
  {
   "cell_type": "code",
   "execution_count": null,
   "metadata": {
    "collapsed": true
   },
   "outputs": [],
   "source": [
    "def manual_pr(ref, res):\n",
    "    \n",
    "    intersect = len(set(ref).intersection(set(res)))\n",
    "    precision = intersect/len(res)\n",
    "\n",
    "    return precision\n"
   ]
  },
  {
   "cell_type": "code",
   "execution_count": null,
   "metadata": {},
   "outputs": [],
   "source": [
    "i = 1\n",
    "totalPrec = 0\n",
    "while i < 225:\n",
    "    r = sorted[i]\n",
    "    ar = actualResults[i]\n",
    "    prec = manual_pr(ar,r)\n",
    "    totalPrec =  totalPrec + prec\n",
    "    i=i+1\n",
    "    print(totalPrec)\n",
    "    \n",
    "print('MAP=', totalPrec/225)"
   ]
  },
  {
   "cell_type": "code",
   "execution_count": null,
   "metadata": {
    "collapsed": true
   },
   "outputs": [],
   "source": []
  }
 ],
 "metadata": {
  "kernelspec": {
   "display_name": "Python 3",
   "language": "python",
   "name": "python3"
  },
  "language_info": {
   "codemirror_mode": {
    "name": "ipython",
    "version": 3
   },
   "file_extension": ".py",
   "mimetype": "text/x-python",
   "name": "python",
   "nbconvert_exporter": "python",
   "pygments_lexer": "ipython3",
   "version": "3.6.1"
  }
 },
 "nbformat": 4,
 "nbformat_minor": 2
}
